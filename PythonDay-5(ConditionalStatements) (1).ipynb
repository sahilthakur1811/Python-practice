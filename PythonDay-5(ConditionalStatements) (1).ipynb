{
 "cells": [
  {
   "cell_type": "markdown",
   "id": "797bd8b6",
   "metadata": {},
   "source": [
    "# Flow Control"
   ]
  },
  {
   "cell_type": "markdown",
   "id": "14696dbd",
   "metadata": {},
   "source": [
    "# 1. Conditional Statements"
   ]
  },
  {
   "cell_type": "code",
   "execution_count": 6,
   "id": "564e55b2",
   "metadata": {},
   "outputs": [],
   "source": [
    "# 1. Simple if statement"
   ]
  },
  {
   "cell_type": "markdown",
   "id": "5b3c7cb3",
   "metadata": {},
   "source": [
    "Syntax:\n",
    "if(condition):\n",
    "    statement1\n",
    "    statement2\n",
    "statement3\n",
    "statement4\n"
   ]
  },
  {
   "cell_type": "code",
   "execution_count": 6,
   "id": "1059b287",
   "metadata": {},
   "outputs": [
    {
     "name": "stdout",
     "output_type": "stream",
     "text": [
      "23\n",
      "Chitkara University\n"
     ]
    }
   ],
   "source": [
    "# Find Even Number\n",
    "\n",
    "num=int(input())\n",
    "\n",
    "if(num%2==0):\n",
    "    print(\"Even number\")\n",
    "print(\"Chitkara University\")"
   ]
  },
  {
   "cell_type": "markdown",
   "id": "3aec5e10",
   "metadata": {},
   "source": [
    "# Shorthand notation\n",
    "Syntax:\n",
    "if (condition): if-statement \n"
   ]
  },
  {
   "cell_type": "code",
   "execution_count": 7,
   "id": "0d6b78bc",
   "metadata": {},
   "outputs": [
    {
     "name": "stdout",
     "output_type": "stream",
     "text": [
      "12\n",
      "Even number\n"
     ]
    }
   ],
   "source": [
    "num=int(input())\n",
    "if(num%2==0):print(\"Even number\")"
   ]
  },
  {
   "cell_type": "code",
   "execution_count": 5,
   "id": "fe1bdd05",
   "metadata": {},
   "outputs": [],
   "source": [
    "# 2. if-else statement"
   ]
  },
  {
   "cell_type": "markdown",
   "id": "3e0ac758",
   "metadata": {},
   "source": [
    "Syntax\n",
    "if(condition):\n",
    "    statement1\n",
    "    statement2\n",
    "else:\n",
    "    statement3\n",
    "    statement4"
   ]
  },
  {
   "cell_type": "code",
   "execution_count": 9,
   "id": "58c86460",
   "metadata": {},
   "outputs": [
    {
     "name": "stdout",
     "output_type": "stream",
     "text": [
      "23\n",
      "Odd Number\n"
     ]
    }
   ],
   "source": [
    "# Find Even or ODD Number\n",
    "num=int(input())\n",
    "if(num%2==0):\n",
    "    print(\"Even number\")\n",
    "else:\n",
    "    print(\"Odd Number\")"
   ]
  },
  {
   "cell_type": "markdown",
   "id": "8513b92b",
   "metadata": {},
   "source": [
    "# Shorthand Notation for if else\n",
    "Syntax:\n",
    "if-statement(s) if (condition) else else-statement(s)\n"
   ]
  },
  {
   "cell_type": "code",
   "execution_count": 13,
   "id": "ae201ddc",
   "metadata": {},
   "outputs": [
    {
     "name": "stdout",
     "output_type": "stream",
     "text": [
      "12\n",
      "Even number\n"
     ]
    }
   ],
   "source": [
    "num=int(input())\n",
    "\n",
    "print(\"Even number\") if num%2==0 else print(\"Odd Number\")\n"
   ]
  },
  {
   "cell_type": "code",
   "execution_count": 9,
   "id": "b46601af",
   "metadata": {},
   "outputs": [],
   "source": [
    "#3. if elif else statement "
   ]
  },
  {
   "cell_type": "markdown",
   "id": "8390bbea",
   "metadata": {},
   "source": [
    "SYNTAX:\n",
    "    \n",
    "if(condition1):\n",
    "    statement1\n",
    "elif(condition2):\n",
    "    statement2\n",
    "elif(condition3):\n",
    "    statemenst3\n",
    ".....\n",
    ".....\n",
    ".....\n",
    "else:\n",
    "    statements"
   ]
  },
  {
   "cell_type": "code",
   "execution_count": 20,
   "id": "ea1b1294",
   "metadata": {},
   "outputs": [
    {
     "name": "stdout",
     "output_type": "stream",
     "text": [
      "8\n",
      "Single Digit\n",
      "Great\n"
     ]
    }
   ],
   "source": [
    "# Check whether a positive number is two digit, three digit or greater that three digit number\n",
    "\n",
    "num=int(input())\n",
    "\n",
    "if num>=0 and num <=9:\n",
    "    print(\"Single Digit\")\n",
    "elif num >=10 and num <=99:\n",
    "    print(\"Two Digits\")\n",
    "elif num>=100 and num <=999:\n",
    "    print(\"Three Digits\")\n",
    "else:\n",
    "    print(\"Great\")\n"
   ]
  },
  {
   "cell_type": "code",
   "execution_count": 18,
   "id": "c6d19247",
   "metadata": {},
   "outputs": [],
   "source": [
    "# 4. Nested Conditions\n"
   ]
  },
  {
   "cell_type": "markdown",
   "id": "1e11f1b2",
   "metadata": {},
   "source": [
    "SYNTAX:\n",
    "\n",
    "if(conditon1):\n",
    "    if(condition2):\n",
    "        statements\n",
    "    else:\n",
    "        statements  \n",
    "else:\n",
    "    if(condition3):\n",
    "        statements\n",
    "    else:\n",
    "        statements\n",
    "\n"
   ]
  },
  {
   "cell_type": "code",
   "execution_count": 17,
   "id": "cb32fac9",
   "metadata": {},
   "outputs": [
    {
     "name": "stdout",
     "output_type": "stream",
     "text": [
      "12\n",
      "23\n",
      "34\n",
      "C\n"
     ]
    }
   ],
   "source": [
    "# Greatest of three numbers\n",
    "a=int(input())\n",
    "b=int(input())\n",
    "c=int(input())\n",
    "if(a>b):\n",
    "    if(a>c):\n",
    "        print(\"A\")\n",
    "    else:\n",
    "        print(\"C\")\n",
    "else:\n",
    "    if(b>c):\n",
    "        print(\"B\")\n",
    "    else:\n",
    "        print(\"C\")"
   ]
  },
  {
   "cell_type": "code",
   "execution_count": 23,
   "id": "6c4482f3",
   "metadata": {},
   "outputs": [
    {
     "name": "stdout",
     "output_type": "stream",
     "text": [
      "Enter A12\n",
      "Enter B23\n",
      "Enter C35\n",
      "C\n"
     ]
    }
   ],
   "source": [
    "# Greatest of 3 numbers\n",
    "a=int(input(\"Enter A\"))\n",
    "b=int(input(\"Enter B\"))\n",
    "c=int(input(\"Enter C\"))\n",
    "\n",
    "if(a>b):    \n",
    "    if(a>c):\n",
    "        print(\"A\")\n",
    "    else:\n",
    "        print(\"C\")  \n",
    "else:\n",
    "    if(b>c):\n",
    "        print(\"B\")\n",
    "    else:\n",
    "        print(\"C\")\n",
    "\n"
   ]
  },
  {
   "cell_type": "code",
   "execution_count": 27,
   "id": "ce24eb22",
   "metadata": {},
   "outputs": [
    {
     "name": "stdout",
     "output_type": "stream",
     "text": [
      "140720930039888\n",
      "140720930039888\n"
     ]
    }
   ],
   "source": [
    "a=10\n",
    "print(id(a))\n",
    "b=a+2-2\n",
    "print(id(b))\n",
    "\n"
   ]
  },
  {
   "cell_type": "code",
   "execution_count": null,
   "id": "4e6affc7",
   "metadata": {},
   "outputs": [],
   "source": []
  }
 ],
 "metadata": {
  "kernelspec": {
   "display_name": "Python 3",
   "language": "python",
   "name": "python3"
  },
  "language_info": {
   "codemirror_mode": {
    "name": "ipython",
    "version": 3
   },
   "file_extension": ".py",
   "mimetype": "text/x-python",
   "name": "python",
   "nbconvert_exporter": "python",
   "pygments_lexer": "ipython3",
   "version": "3.8.8"
  }
 },
 "nbformat": 4,
 "nbformat_minor": 5
}
